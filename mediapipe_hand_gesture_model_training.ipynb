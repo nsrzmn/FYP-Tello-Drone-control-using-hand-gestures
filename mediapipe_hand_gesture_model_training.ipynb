{
  "nbformat": 4,
  "nbformat_minor": 0,
  "metadata": {
    "colab": {
      "name": "mediapipe-hand-gesture-model-training.ipynb",
      "provenance": [],
      "authorship_tag": "ABX9TyMKEuW7pRU2erzkR8Qlz3RO",
      "include_colab_link": true
    },
    "kernelspec": {
      "name": "python3",
      "display_name": "Python 3"
    },
    "language_info": {
      "name": "python"
    }
  },
  "cells": [
    {
      "cell_type": "markdown",
      "metadata": {
        "id": "view-in-github",
        "colab_type": "text"
      },
      "source": [
        "<a href=\"https://colab.research.google.com/github/nsrzmn/FYP-Tello-Drone-control-using-hand-gestures/blob/main/mediapipe_hand_gesture_model_training.ipynb\" target=\"_parent\"><img src=\"https://colab.research.google.com/assets/colab-badge.svg\" alt=\"Open In Colab\"/></a>"
      ]
    },
    {
      "cell_type": "code",
      "metadata": {
        "id": "QK-8uk91AuYH"
      },
      "source": [
        "import csv\n",
        "import pandas as pd\n",
        "import numpy as np\n",
        "import tensorflow as tf\n",
        "from sklearn.model_selection import train_test_split\n",
        "\n",
        "RANDOM_SEED = 42\n"
      ],
      "execution_count": 2,
      "outputs": []
    },
    {
      "cell_type": "code",
      "metadata": {
        "id": "YYcHRK2kBgJQ"
      },
      "source": [
        "dataset = '/content/keypoint.csv'\n",
        "model_save_path = '/content/keypoint_classifier.hdf5'\n",
        "tflite_save_path = '/content/keypoint_classifier.tflite'"
      ],
      "execution_count": 23,
      "outputs": []
    },
    {
      "cell_type": "code",
      "metadata": {
        "id": "G2caIHdRBqNK"
      },
      "source": [
        "x_dataset = np.loadtxt(dataset, dtype='float32', delimiter=',', usecols=(list(range(1, (21 * 2)+1))))"
      ],
      "execution_count": 4,
      "outputs": []
    },
    {
      "cell_type": "code",
      "metadata": {
        "id": "UN_IwqirCfPQ"
      },
      "source": [
        "y_dataset = np.loadtxt(dataset, dtype='int32', delimiter=',', usecols=(0))"
      ],
      "execution_count": 6,
      "outputs": []
    },
    {
      "cell_type": "code",
      "metadata": {
        "id": "vOPeBYrmCm4A"
      },
      "source": [
        "x_train, x_test, y_train, y_test = train_test_split(x_dataset, y_dataset, train_size= 0.75, random_state= RANDOM_SEED)"
      ],
      "execution_count": 7,
      "outputs": []
    },
    {
      "cell_type": "code",
      "metadata": {
        "colab": {
          "base_uri": "https://localhost:8080/"
        },
        "id": "It2uE_sGDMF1",
        "outputId": "24c21a3a-fd32-469f-b746-0946163965d4"
      },
      "source": [
        "print(x_train.shape)"
      ],
      "execution_count": 8,
      "outputs": [
        {
          "output_type": "stream",
          "text": [
            "(4642, 42)\n"
          ],
          "name": "stdout"
        }
      ]
    },
    {
      "cell_type": "code",
      "metadata": {
        "colab": {
          "base_uri": "https://localhost:8080/"
        },
        "id": "T5WiXfcyDTEx",
        "outputId": "3941d5ac-30fb-4dc4-e44a-825e105597cf"
      },
      "source": [
        "print(y_train.shape)"
      ],
      "execution_count": 9,
      "outputs": [
        {
          "output_type": "stream",
          "text": [
            "(4642,)\n"
          ],
          "name": "stdout"
        }
      ]
    },
    {
      "cell_type": "code",
      "metadata": {
        "colab": {
          "base_uri": "https://localhost:8080/",
          "height": 279
        },
        "id": "hlV4It4ODV5b",
        "outputId": "8a100717-ac3a-4513-c123-adbf676ec3a5"
      },
      "source": [
        "counts = np.unique(y_dataset, return_counts=True)\n",
        "df = pd.DataFrame(counts)\n",
        "df.T.plot(kind=\"bar\", stacked=True)\n",
        "print(counts)"
      ],
      "execution_count": 13,
      "outputs": [
        {
          "output_type": "stream",
          "text": [
            "(array([0, 1, 2, 3, 4, 5, 6, 7], dtype=int32), array([1595, 1663, 1510,  672,  164,  257,  139,  190]))\n"
          ],
          "name": "stdout"
        },
        {
          "output_type": "display_data",
          "data": {
            "image/png": "[encoded data removed]",
            "text/plain": [
              "<Figure size 432x288 with 1 Axes>"
            ]
          },
          "metadata": {
            "tags": [],
            "needs_background": "light"
          }
        }
      ]
    },
    {
      "cell_type": "markdown",
      "metadata": {
        "id": "XQU_J8-BD5sb"
      },
      "source": [
        "\n",
        "\n",
        "**Model building**\n",
        "\n"
      ]
    },
    {
      "cell_type": "code",
      "metadata": {
        "id": "VmLqid68Dbmv"
      },
      "source": [
        "model = tf.keras.models.Sequential([\n",
        "    tf.keras.layers.Input((21 * 2, )),\n",
        "    tf.keras.layers.Dropout(0.0),\n",
        "    tf.keras.layers.Dense(32, activation='relu'),\n",
        "    tf.keras.layers.Dropout(0.0),\n",
        "    tf.keras.layers.Dense(32, activation='relu'),\n",
        "    tf.keras.layers.Dropout(0.0),\n",
        "    tf.keras.layers.Dense(16, activation='relu'),\n",
        "    tf.keras.layers.Dense(8, activation='softmax')\n",
        "])"
      ],
      "execution_count": 15,
      "outputs": []
    },
    {
      "cell_type": "code",
      "metadata": {
        "colab": {
          "base_uri": "https://localhost:8080/"
        },
        "id": "CCGW3AcpEEw1",
        "outputId": "ba331382-7aa7-4bf4-b294-f68d84d19229"
      },
      "source": [
        "model.summary()"
      ],
      "execution_count": 17,
      "outputs": [
        {
          "output_type": "stream",
          "text": [
            "Model: \"sequential\"\n",
            "_________________________________________________________________\n",
            "Layer (type)                 Output Shape              Param #   \n",
            "=================================================================\n",
            "dropout_3 (Dropout)          (None, 42)                0         \n",
            "_________________________________________________________________\n",
            "dense_3 (Dense)              (None, 32)                1376      \n",
            "_________________________________________________________________\n",
            "dropout_4 (Dropout)          (None, 32)                0         \n",
            "_________________________________________________________________\n",
            "dense_4 (Dense)              (None, 32)                1056      \n",
            "_________________________________________________________________\n",
            "dropout_5 (Dropout)          (None, 32)                0         \n",
            "_________________________________________________________________\n",
            "dense_5 (Dense)              (None, 16)                528       \n",
            "_________________________________________________________________\n",
            "dense_6 (Dense)              (None, 8)                 136       \n",
            "=================================================================\n",
            "Total params: 3,096\n",
            "Trainable params: 3,096\n",
            "Non-trainable params: 0\n",
            "_________________________________________________________________\n"
          ],
          "name": "stdout"
        }
      ]
    },
    {
      "cell_type": "code",
      "metadata": {
        "id": "H6QcjgMDIyXJ"
      },
      "source": [
        "# Model checkpoint callback\n",
        "cp_callback = tf.keras.callbacks.ModelCheckpoint(\n",
        "    model_save_path, verbose=1, save_weights_only=False, save_best_only=True)\n",
        "# Callback for early stopping\n",
        "es_callback = tf.keras.callbacks.EarlyStopping(patience=50, verbose=1)"
      ],
      "execution_count": 24,
      "outputs": []
    },
    {
      "cell_type": "code",
      "metadata": {
        "id": "VRpodeNLEKFa"
      },
      "source": [
        "model.compile(\n",
        "    optimizer='adam',\n",
        "    loss='sparse_categorical_crossentropy',\n",
        "    metrics=['accuracy']\n",
        ")\n",
        "\n"
      ],
      "execution_count": 18,
      "outputs": []
    },
    {
      "cell_type": "code",
      "metadata": {
        "colab": {
          "base_uri": "https://localhost:8080/"
        },
        "id": "A8sqsSjCH15d",
        "outputId": "d776a98b-00b6-402f-ac34-e660e145a302"
      },
      "source": [
        "model.fit(\n",
        "    x_train,\n",
        "    y_train,\n",
        "    epochs=1000,\n",
        "    batch_size=64,\n",
        "    validation_data=(x_test, y_test),\n",
        "    callbacks=[cp_callback, es_callback]\n",
        ")"
      ],
      "execution_count": 25,
      "outputs": [
        {
          "output_type": "stream",
          "text": [
            "Epoch 1/1000\n",
            "73/73 [==============================] - 0s 4ms/step - loss: 4.4671e-05 - accuracy: 1.0000 - val_loss: 0.0070 - val_accuracy: 0.9981\n",
            "\n",
            "Epoch 00001: val_loss improved from inf to 0.00695, saving model to /content/keypoint_classifier.hdf5\n",
            "Epoch 2/1000\n",
            "73/73 [==============================] - 0s 4ms/step - loss: 4.2066e-05 - accuracy: 1.0000 - val_loss: 0.0069 - val_accuracy: 0.9981\n",
            "\n",
            "Epoch 00002: val_loss improved from 0.00695 to 0.00692, saving model to /content/keypoint_classifier.hdf5\n",
            "Epoch 3/1000\n",
            "73/73 [==============================] - 0s 4ms/step - loss: 4.0241e-05 - accuracy: 1.0000 - val_loss: 0.0069 - val_accuracy: 0.9981\n",
            "\n",
            "Epoch 00003: val_loss did not improve from 0.00692\n",
            "Epoch 4/1000\n",
            "73/73 [==============================] - 0s 4ms/step - loss: 3.7873e-05 - accuracy: 1.0000 - val_loss: 0.0068 - val_accuracy: 0.9981\n",
            "\n",
            "Epoch 00004: val_loss improved from 0.00692 to 0.00685, saving model to /content/keypoint_classifier.hdf5\n",
            "Epoch 5/1000\n",
            "73/73 [==============================] - 0s 4ms/step - loss: 3.6215e-05 - accuracy: 1.0000 - val_loss: 0.0068 - val_accuracy: 0.9981\n",
            "\n",
            "Epoch 00005: val_loss improved from 0.00685 to 0.00679, saving model to /content/keypoint_classifier.hdf5\n",
            "Epoch 6/1000\n",
            "73/73 [==============================] - 0s 4ms/step - loss: 3.4398e-05 - accuracy: 1.0000 - val_loss: 0.0068 - val_accuracy: 0.9981\n",
            "\n",
            "Epoch 00006: val_loss did not improve from 0.00679\n",
            "Epoch 7/1000\n",
            "73/73 [==============================] - 0s 4ms/step - loss: 3.3024e-05 - accuracy: 1.0000 - val_loss: 0.0068 - val_accuracy: 0.9981\n",
            "\n",
            "Epoch 00007: val_loss improved from 0.00679 to 0.00678, saving model to /content/keypoint_classifier.hdf5\n",
            "Epoch 8/1000\n",
            "73/73 [==============================] - 0s 4ms/step - loss: 3.1506e-05 - accuracy: 1.0000 - val_loss: 0.0068 - val_accuracy: 0.9981\n",
            "\n",
            "Epoch 00008: val_loss did not improve from 0.00678\n",
            "Epoch 9/1000\n",
            "73/73 [==============================] - 0s 3ms/step - loss: 3.0590e-05 - accuracy: 1.0000 - val_loss: 0.0067 - val_accuracy: 0.9981\n",
            "\n",
            "Epoch 00009: val_loss improved from 0.00678 to 0.00668, saving model to /content/keypoint_classifier.hdf5\n",
            "Epoch 10/1000\n",
            "73/73 [==============================] - 0s 3ms/step - loss: 2.9659e-05 - accuracy: 1.0000 - val_loss: 0.0068 - val_accuracy: 0.9981\n",
            "\n",
            "Epoch 00010: val_loss did not improve from 0.00668\n",
            "Epoch 11/1000\n",
            "73/73 [==============================] - 0s 3ms/step - loss: 2.8511e-05 - accuracy: 1.0000 - val_loss: 0.0066 - val_accuracy: 0.9981\n",
            "\n",
            "Epoch 00011: val_loss improved from 0.00668 to 0.00665, saving model to /content/keypoint_classifier.hdf5\n",
            "Epoch 12/1000\n",
            "73/73 [==============================] - 0s 4ms/step - loss: 2.7182e-05 - accuracy: 1.0000 - val_loss: 0.0067 - val_accuracy: 0.9981\n",
            "\n",
            "Epoch 00012: val_loss did not improve from 0.00665\n",
            "Epoch 13/1000\n",
            "73/73 [==============================] - 0s 3ms/step - loss: 2.6435e-05 - accuracy: 1.0000 - val_loss: 0.0066 - val_accuracy: 0.9981\n",
            "\n",
            "Epoch 00013: val_loss improved from 0.00665 to 0.00665, saving model to /content/keypoint_classifier.hdf5\n",
            "Epoch 14/1000\n",
            "73/73 [==============================] - 0s 4ms/step - loss: 2.5483e-05 - accuracy: 1.0000 - val_loss: 0.0066 - val_accuracy: 0.9981\n",
            "\n",
            "Epoch 00014: val_loss improved from 0.00665 to 0.00663, saving model to /content/keypoint_classifier.hdf5\n",
            "Epoch 15/1000\n",
            "73/73 [==============================] - 0s 3ms/step - loss: 2.4482e-05 - accuracy: 1.0000 - val_loss: 0.0066 - val_accuracy: 0.9981\n",
            "\n",
            "Epoch 00015: val_loss improved from 0.00663 to 0.00660, saving model to /content/keypoint_classifier.hdf5\n",
            "Epoch 16/1000\n",
            "73/73 [==============================] - 0s 3ms/step - loss: 2.4040e-05 - accuracy: 1.0000 - val_loss: 0.0065 - val_accuracy: 0.9981\n",
            "\n",
            "Epoch 00016: val_loss improved from 0.00660 to 0.00653, saving model to /content/keypoint_classifier.hdf5\n",
            "Epoch 17/1000\n",
            "73/73 [==============================] - 0s 4ms/step - loss: 2.2805e-05 - accuracy: 1.0000 - val_loss: 0.0066 - val_accuracy: 0.9981\n",
            "\n",
            "Epoch 00017: val_loss did not improve from 0.00653\n",
            "Epoch 18/1000\n",
            "73/73 [==============================] - 0s 4ms/step - loss: 2.2290e-05 - accuracy: 1.0000 - val_loss: 0.0066 - val_accuracy: 0.9981\n",
            "\n",
            "Epoch 00018: val_loss did not improve from 0.00653\n",
            "Epoch 19/1000\n",
            "73/73 [==============================] - 0s 3ms/step - loss: 2.1865e-05 - accuracy: 1.0000 - val_loss: 0.0066 - val_accuracy: 0.9981\n",
            "\n",
            "Epoch 00019: val_loss did not improve from 0.00653\n",
            "Epoch 20/1000\n",
            "73/73 [==============================] - 0s 4ms/step - loss: 2.1291e-05 - accuracy: 1.0000 - val_loss: 0.0065 - val_accuracy: 0.9981\n",
            "\n",
            "Epoch 00020: val_loss improved from 0.00653 to 0.00648, saving model to /content/keypoint_classifier.hdf5\n",
            "Epoch 21/1000\n",
            "73/73 [==============================] - 0s 3ms/step - loss: 2.0580e-05 - accuracy: 1.0000 - val_loss: 0.0064 - val_accuracy: 0.9981\n",
            "\n",
            "Epoch 00021: val_loss improved from 0.00648 to 0.00644, saving model to /content/keypoint_classifier.hdf5\n",
            "Epoch 22/1000\n",
            "73/73 [==============================] - 0s 3ms/step - loss: 2.0098e-05 - accuracy: 1.0000 - val_loss: 0.0064 - val_accuracy: 0.9981\n",
            "\n",
            "Epoch 00022: val_loss improved from 0.00644 to 0.00642, saving model to /content/keypoint_classifier.hdf5\n",
            "Epoch 23/1000\n",
            "73/73 [==============================] - 0s 3ms/step - loss: 1.9710e-05 - accuracy: 1.0000 - val_loss: 0.0064 - val_accuracy: 0.9981\n",
            "\n",
            "Epoch 00023: val_loss improved from 0.00642 to 0.00638, saving model to /content/keypoint_classifier.hdf5\n",
            "Epoch 24/1000\n",
            "73/73 [==============================] - 0s 3ms/step - loss: 1.8852e-05 - accuracy: 1.0000 - val_loss: 0.0064 - val_accuracy: 0.9981\n",
            "\n",
            "Epoch 00024: val_loss did not improve from 0.00638\n",
            "Epoch 25/1000\n",
            "73/73 [==============================] - 0s 4ms/step - loss: 1.8612e-05 - accuracy: 1.0000 - val_loss: 0.0064 - val_accuracy: 0.9981\n",
            "\n",
            "Epoch 00025: val_loss did not improve from 0.00638\n",
            "Epoch 26/1000\n",
            "73/73 [==============================] - 0s 4ms/step - loss: 1.8268e-05 - accuracy: 1.0000 - val_loss: 0.0064 - val_accuracy: 0.9981\n",
            "\n",
            "Epoch 00026: val_loss did not improve from 0.00638\n",
            "Epoch 27/1000\n",
            "73/73 [==============================] - 0s 3ms/step - loss: 1.7671e-05 - accuracy: 1.0000 - val_loss: 0.0065 - val_accuracy: 0.9981\n",
            "\n",
            "Epoch 00027: val_loss did not improve from 0.00638\n",
            "Epoch 28/1000\n",
            "73/73 [==============================] - 0s 3ms/step - loss: 1.7019e-05 - accuracy: 1.0000 - val_loss: 0.0064 - val_accuracy: 0.9981\n",
            "\n",
            "Epoch 00028: val_loss did not improve from 0.00638\n",
            "Epoch 29/1000\n",
            "73/73 [==============================] - 0s 3ms/step - loss: 1.6555e-05 - accuracy: 1.0000 - val_loss: 0.0064 - val_accuracy: 0.9981\n",
            "\n",
            "Epoch 00029: val_loss improved from 0.00638 to 0.00638, saving model to /content/keypoint_classifier.hdf5\n",
            "Epoch 30/1000\n",
            "73/73 [==============================] - 0s 3ms/step - loss: 1.6378e-05 - accuracy: 1.0000 - val_loss: 0.0065 - val_accuracy: 0.9981\n",
            "\n",
            "Epoch 00030: val_loss did not improve from 0.00638\n",
            "Epoch 31/1000\n",
            "73/73 [==============================] - 0s 3ms/step - loss: 1.6031e-05 - accuracy: 1.0000 - val_loss: 0.0065 - val_accuracy: 0.9981\n",
            "\n",
            "Epoch 00031: val_loss did not improve from 0.00638\n",
            "Epoch 32/1000\n",
            "73/73 [==============================] - 0s 3ms/step - loss: 1.5859e-05 - accuracy: 1.0000 - val_loss: 0.0065 - val_accuracy: 0.9981\n",
            "\n",
            "Epoch 00032: val_loss did not improve from 0.00638\n",
            "Epoch 33/1000\n",
            "73/73 [==============================] - 0s 3ms/step - loss: 1.5221e-05 - accuracy: 1.0000 - val_loss: 0.0064 - val_accuracy: 0.9981\n",
            "\n",
            "Epoch 00033: val_loss improved from 0.00638 to 0.00636, saving model to /content/keypoint_classifier.hdf5\n",
            "Epoch 34/1000\n",
            "73/73 [==============================] - 0s 3ms/step - loss: 1.4995e-05 - accuracy: 1.0000 - val_loss: 0.0063 - val_accuracy: 0.9981\n",
            "\n",
            "Epoch 00034: val_loss improved from 0.00636 to 0.00634, saving model to /content/keypoint_classifier.hdf5\n",
            "Epoch 35/1000\n",
            "73/73 [==============================] - 0s 6ms/step - loss: 1.4197e-05 - accuracy: 1.0000 - val_loss: 0.0064 - val_accuracy: 0.9981\n",
            "\n",
            "Epoch 00035: val_loss did not improve from 0.00634\n",
            "Epoch 36/1000\n",
            "73/73 [==============================] - 0s 3ms/step - loss: 1.3936e-05 - accuracy: 1.0000 - val_loss: 0.0064 - val_accuracy: 0.9981\n",
            "\n",
            "Epoch 00036: val_loss did not improve from 0.00634\n",
            "Epoch 37/1000\n",
            "73/73 [==============================] - 0s 3ms/step - loss: 1.3975e-05 - accuracy: 1.0000 - val_loss: 0.0063 - val_accuracy: 0.9981\n",
            "\n",
            "Epoch 00037: val_loss improved from 0.00634 to 0.00627, saving model to /content/keypoint_classifier.hdf5\n",
            "Epoch 38/1000\n",
            "73/73 [==============================] - 0s 3ms/step - loss: 1.3352e-05 - accuracy: 1.0000 - val_loss: 0.0063 - val_accuracy: 0.9981\n",
            "\n",
            "Epoch 00038: val_loss did not improve from 0.00627\n",
            "Epoch 39/1000\n",
            "73/73 [==============================] - 0s 3ms/step - loss: 1.3120e-05 - accuracy: 1.0000 - val_loss: 0.0062 - val_accuracy: 0.9981\n",
            "\n",
            "Epoch 00039: val_loss improved from 0.00627 to 0.00621, saving model to /content/keypoint_classifier.hdf5\n",
            "Epoch 40/1000\n",
            "73/73 [==============================] - 0s 3ms/step - loss: 1.2900e-05 - accuracy: 1.0000 - val_loss: 0.0061 - val_accuracy: 0.9981\n",
            "\n",
            "Epoch 00040: val_loss improved from 0.00621 to 0.00613, saving model to /content/keypoint_classifier.hdf5\n",
            "Epoch 41/1000\n",
            "73/73 [==============================] - 0s 4ms/step - loss: 1.2630e-05 - accuracy: 1.0000 - val_loss: 0.0062 - val_accuracy: 0.9981\n",
            "\n",
            "Epoch 00041: val_loss did not improve from 0.00613\n",
            "Epoch 42/1000\n",
            "73/73 [==============================] - 0s 3ms/step - loss: 1.1879e-05 - accuracy: 1.0000 - val_loss: 0.0062 - val_accuracy: 0.9981\n",
            "\n",
            "Epoch 00042: val_loss did not improve from 0.00613\n",
            "Epoch 43/1000\n",
            "73/73 [==============================] - 0s 3ms/step - loss: 1.1926e-05 - accuracy: 1.0000 - val_loss: 0.0062 - val_accuracy: 0.9981\n",
            "\n",
            "Epoch 00043: val_loss did not improve from 0.00613\n",
            "Epoch 44/1000\n",
            "73/73 [==============================] - 0s 3ms/step - loss: 1.1424e-05 - accuracy: 1.0000 - val_loss: 0.0062 - val_accuracy: 0.9981\n",
            "\n",
            "Epoch 00044: val_loss did not improve from 0.00613\n",
            "Epoch 45/1000\n",
            "73/73 [==============================] - 0s 3ms/step - loss: 1.1424e-05 - accuracy: 1.0000 - val_loss: 0.0061 - val_accuracy: 0.9981\n",
            "\n",
            "Epoch 00045: val_loss improved from 0.00613 to 0.00607, saving model to /content/keypoint_classifier.hdf5\n",
            "Epoch 46/1000\n",
            "73/73 [==============================] - 0s 4ms/step - loss: 1.1304e-05 - accuracy: 1.0000 - val_loss: 0.0063 - val_accuracy: 0.9981\n",
            "\n",
            "Epoch 00046: val_loss did not improve from 0.00607\n",
            "Epoch 47/1000\n",
            "73/73 [==============================] - 0s 4ms/step - loss: 1.1188e-05 - accuracy: 1.0000 - val_loss: 0.0062 - val_accuracy: 0.9981\n",
            "\n",
            "Epoch 00047: val_loss did not improve from 0.00607\n",
            "Epoch 48/1000\n",
            "73/73 [==============================] - 0s 4ms/step - loss: 1.0650e-05 - accuracy: 1.0000 - val_loss: 0.0061 - val_accuracy: 0.9981\n",
            "\n",
            "Epoch 00048: val_loss did not improve from 0.00607\n",
            "Epoch 49/1000\n",
            "73/73 [==============================] - 0s 3ms/step - loss: 1.0455e-05 - accuracy: 1.0000 - val_loss: 0.0061 - val_accuracy: 0.9981\n",
            "\n",
            "Epoch 00049: val_loss did not improve from 0.00607\n",
            "Epoch 50/1000\n",
            "73/73 [==============================] - 0s 4ms/step - loss: 9.7168e-06 - accuracy: 1.0000 - val_loss: 0.0059 - val_accuracy: 0.9981\n",
            "\n",
            "Epoch 00050: val_loss improved from 0.00607 to 0.00592, saving model to /content/keypoint_classifier.hdf5\n",
            "Epoch 51/1000\n",
            "73/73 [==============================] - 0s 4ms/step - loss: 1.0577e-05 - accuracy: 1.0000 - val_loss: 0.0059 - val_accuracy: 0.9981\n",
            "\n",
            "Epoch 00051: val_loss improved from 0.00592 to 0.00591, saving model to /content/keypoint_classifier.hdf5\n",
            "Epoch 52/1000\n",
            "73/73 [==============================] - 0s 4ms/step - loss: 1.0300e-05 - accuracy: 1.0000 - val_loss: 0.0060 - val_accuracy: 0.9981\n",
            "\n",
            "Epoch 00052: val_loss did not improve from 0.00591\n",
            "Epoch 53/1000\n",
            "73/73 [==============================] - 0s 4ms/step - loss: 1.0029e-05 - accuracy: 1.0000 - val_loss: 0.0064 - val_accuracy: 0.9981\n",
            "\n",
            "Epoch 00053: val_loss did not improve from 0.00591\n",
            "Epoch 54/1000\n",
            "73/73 [==============================] - 0s 3ms/step - loss: 9.5309e-06 - accuracy: 1.0000 - val_loss: 0.0061 - val_accuracy: 0.9981\n",
            "\n",
            "Epoch 00054: val_loss did not improve from 0.00591\n",
            "Epoch 55/1000\n",
            "73/73 [==============================] - 0s 3ms/step - loss: 9.0580e-06 - accuracy: 1.0000 - val_loss: 0.0060 - val_accuracy: 0.9981\n",
            "\n",
            "Epoch 00055: val_loss did not improve from 0.00591\n",
            "Epoch 56/1000\n",
            "73/73 [==============================] - 0s 3ms/step - loss: 9.1854e-06 - accuracy: 1.0000 - val_loss: 0.0060 - val_accuracy: 0.9981\n",
            "\n",
            "Epoch 00056: val_loss did not improve from 0.00591\n",
            "Epoch 57/1000\n",
            "73/73 [==============================] - 0s 3ms/step - loss: 9.3845e-06 - accuracy: 1.0000 - val_loss: 0.0060 - val_accuracy: 0.9981\n",
            "\n",
            "Epoch 00057: val_loss did not improve from 0.00591\n",
            "Epoch 58/1000\n",
            "73/73 [==============================] - 0s 4ms/step - loss: 8.5229e-06 - accuracy: 1.0000 - val_loss: 0.0059 - val_accuracy: 0.9981\n",
            "\n",
            "Epoch 00058: val_loss did not improve from 0.00591\n",
            "Epoch 59/1000\n",
            "73/73 [==============================] - 0s 3ms/step - loss: 8.4692e-06 - accuracy: 1.0000 - val_loss: 0.0059 - val_accuracy: 0.9981\n",
            "\n",
            "Epoch 00059: val_loss improved from 0.00591 to 0.00587, saving model to /content/keypoint_classifier.hdf5\n",
            "Epoch 60/1000\n",
            "73/73 [==============================] - 0s 4ms/step - loss: 8.6126e-06 - accuracy: 1.0000 - val_loss: 0.0059 - val_accuracy: 0.9981\n",
            "\n",
            "Epoch 00060: val_loss did not improve from 0.00587\n",
            "Epoch 61/1000\n",
            "73/73 [==============================] - 0s 4ms/step - loss: 8.7793e-06 - accuracy: 1.0000 - val_loss: 0.0057 - val_accuracy: 0.9987\n",
            "\n",
            "Epoch 00061: val_loss improved from 0.00587 to 0.00572, saving model to /content/keypoint_classifier.hdf5\n",
            "Epoch 62/1000\n",
            "73/73 [==============================] - 0s 3ms/step - loss: 9.0789e-06 - accuracy: 1.0000 - val_loss: 0.0055 - val_accuracy: 0.9987\n",
            "\n",
            "Epoch 00062: val_loss improved from 0.00572 to 0.00554, saving model to /content/keypoint_classifier.hdf5\n",
            "Epoch 63/1000\n",
            "73/73 [==============================] - 0s 3ms/step - loss: 9.0988e-06 - accuracy: 1.0000 - val_loss: 0.0064 - val_accuracy: 0.9981\n",
            "\n",
            "Epoch 00063: val_loss did not improve from 0.00554\n",
            "Epoch 64/1000\n",
            "73/73 [==============================] - 0s 3ms/step - loss: 0.0095 - accuracy: 0.9981 - val_loss: 0.0337 - val_accuracy: 0.9955\n",
            "\n",
            "Epoch 00064: val_loss did not improve from 0.00554\n",
            "Epoch 65/1000\n",
            "73/73 [==============================] - 0s 4ms/step - loss: 0.0270 - accuracy: 0.9935 - val_loss: 0.0217 - val_accuracy: 0.9961\n",
            "\n",
            "Epoch 00065: val_loss did not improve from 0.00554\n",
            "Epoch 66/1000\n",
            "73/73 [==============================] - 0s 3ms/step - loss: 0.0118 - accuracy: 0.9970 - val_loss: 0.0111 - val_accuracy: 0.9968\n",
            "\n",
            "Epoch 00066: val_loss did not improve from 0.00554\n",
            "Epoch 67/1000\n",
            "73/73 [==============================] - 0s 3ms/step - loss: 0.0027 - accuracy: 0.9994 - val_loss: 0.0088 - val_accuracy: 0.9987\n",
            "\n",
            "Epoch 00067: val_loss did not improve from 0.00554\n",
            "Epoch 68/1000\n",
            "73/73 [==============================] - 0s 4ms/step - loss: 0.0057 - accuracy: 0.9989 - val_loss: 0.0076 - val_accuracy: 0.9987\n",
            "\n",
            "Epoch 00068: val_loss did not improve from 0.00554\n",
            "Epoch 69/1000\n",
            "73/73 [==============================] - 0s 3ms/step - loss: 3.7668e-04 - accuracy: 1.0000 - val_loss: 0.0084 - val_accuracy: 0.9987\n",
            "\n",
            "Epoch 00069: val_loss did not improve from 0.00554\n",
            "Epoch 70/1000\n",
            "73/73 [==============================] - 0s 3ms/step - loss: 2.8327e-04 - accuracy: 1.0000 - val_loss: 0.0078 - val_accuracy: 0.9987\n",
            "\n",
            "Epoch 00070: val_loss did not improve from 0.00554\n",
            "Epoch 71/1000\n",
            "73/73 [==============================] - 0s 3ms/step - loss: 1.7484e-04 - accuracy: 1.0000 - val_loss: 0.0091 - val_accuracy: 0.9987\n",
            "\n",
            "Epoch 00071: val_loss did not improve from 0.00554\n",
            "Epoch 72/1000\n",
            "73/73 [==============================] - 0s 3ms/step - loss: 1.7660e-04 - accuracy: 1.0000 - val_loss: 0.0085 - val_accuracy: 0.9987\n",
            "\n",
            "Epoch 00072: val_loss did not improve from 0.00554\n",
            "Epoch 73/1000\n",
            "73/73 [==============================] - 0s 3ms/step - loss: 7.4125e-05 - accuracy: 1.0000 - val_loss: 0.0081 - val_accuracy: 0.9987\n",
            "\n",
            "Epoch 00073: val_loss did not improve from 0.00554\n",
            "Epoch 74/1000\n",
            "73/73 [==============================] - 0s 3ms/step - loss: 7.0899e-05 - accuracy: 1.0000 - val_loss: 0.0083 - val_accuracy: 0.9987\n",
            "\n",
            "Epoch 00074: val_loss did not improve from 0.00554\n",
            "Epoch 75/1000\n",
            "73/73 [==============================] - 0s 3ms/step - loss: 6.1647e-05 - accuracy: 1.0000 - val_loss: 0.0082 - val_accuracy: 0.9987\n",
            "\n",
            "Epoch 00075: val_loss did not improve from 0.00554\n",
            "Epoch 76/1000\n",
            "73/73 [==============================] - 0s 3ms/step - loss: 5.6321e-05 - accuracy: 1.0000 - val_loss: 0.0080 - val_accuracy: 0.9987\n",
            "\n",
            "Epoch 00076: val_loss did not improve from 0.00554\n",
            "Epoch 77/1000\n",
            "73/73 [==============================] - 0s 4ms/step - loss: 5.7607e-05 - accuracy: 1.0000 - val_loss: 0.0080 - val_accuracy: 0.9987\n",
            "\n",
            "Epoch 00077: val_loss did not improve from 0.00554\n",
            "Epoch 78/1000\n",
            "73/73 [==============================] - 0s 3ms/step - loss: 5.3345e-05 - accuracy: 1.0000 - val_loss: 0.0081 - val_accuracy: 0.9987\n",
            "\n",
            "Epoch 00078: val_loss did not improve from 0.00554\n",
            "Epoch 79/1000\n",
            "73/73 [==============================] - 0s 4ms/step - loss: 4.9503e-05 - accuracy: 1.0000 - val_loss: 0.0082 - val_accuracy: 0.9987\n",
            "\n",
            "Epoch 00079: val_loss did not improve from 0.00554\n",
            "Epoch 80/1000\n",
            "73/73 [==============================] - 0s 3ms/step - loss: 4.5693e-05 - accuracy: 1.0000 - val_loss: 0.0082 - val_accuracy: 0.9987\n",
            "\n",
            "Epoch 00080: val_loss did not improve from 0.00554\n",
            "Epoch 81/1000\n",
            "73/73 [==============================] - 0s 3ms/step - loss: 4.7950e-05 - accuracy: 1.0000 - val_loss: 0.0083 - val_accuracy: 0.9987\n",
            "\n",
            "Epoch 00081: val_loss did not improve from 0.00554\n",
            "Epoch 82/1000\n",
            "73/73 [==============================] - 0s 4ms/step - loss: 4.6175e-05 - accuracy: 1.0000 - val_loss: 0.0080 - val_accuracy: 0.9987\n",
            "\n",
            "Epoch 00082: val_loss did not improve from 0.00554\n",
            "Epoch 83/1000\n",
            "73/73 [==============================] - 0s 4ms/step - loss: 4.3225e-05 - accuracy: 1.0000 - val_loss: 0.0083 - val_accuracy: 0.9987\n",
            "\n",
            "Epoch 00083: val_loss did not improve from 0.00554\n",
            "Epoch 84/1000\n",
            "73/73 [==============================] - 0s 4ms/step - loss: 4.2213e-05 - accuracy: 1.0000 - val_loss: 0.0082 - val_accuracy: 0.9987\n",
            "\n",
            "Epoch 00084: val_loss did not improve from 0.00554\n",
            "Epoch 85/1000\n",
            "73/73 [==============================] - 0s 3ms/step - loss: 4.1883e-05 - accuracy: 1.0000 - val_loss: 0.0083 - val_accuracy: 0.9987\n",
            "\n",
            "Epoch 00085: val_loss did not improve from 0.00554\n",
            "Epoch 86/1000\n",
            "73/73 [==============================] - 0s 4ms/step - loss: 3.9120e-05 - accuracy: 1.0000 - val_loss: 0.0084 - val_accuracy: 0.9987\n",
            "\n",
            "Epoch 00086: val_loss did not improve from 0.00554\n",
            "Epoch 87/1000\n",
            "73/73 [==============================] - 0s 3ms/step - loss: 3.6166e-05 - accuracy: 1.0000 - val_loss: 0.0081 - val_accuracy: 0.9987\n",
            "\n",
            "Epoch 00087: val_loss did not improve from 0.00554\n",
            "Epoch 88/1000\n",
            "73/73 [==============================] - 0s 3ms/step - loss: 3.8533e-05 - accuracy: 1.0000 - val_loss: 0.0083 - val_accuracy: 0.9987\n",
            "\n",
            "Epoch 00088: val_loss did not improve from 0.00554\n",
            "Epoch 89/1000\n",
            "73/73 [==============================] - 0s 3ms/step - loss: 3.7178e-05 - accuracy: 1.0000 - val_loss: 0.0083 - val_accuracy: 0.9987\n",
            "\n",
            "Epoch 00089: val_loss did not improve from 0.00554\n",
            "Epoch 90/1000\n",
            "73/73 [==============================] - 0s 3ms/step - loss: 3.2782e-05 - accuracy: 1.0000 - val_loss: 0.0085 - val_accuracy: 0.9987\n",
            "\n",
            "Epoch 00090: val_loss did not improve from 0.00554\n",
            "Epoch 91/1000\n",
            "73/73 [==============================] - 0s 3ms/step - loss: 3.1769e-05 - accuracy: 1.0000 - val_loss: 0.0083 - val_accuracy: 0.9987\n",
            "\n",
            "Epoch 00091: val_loss did not improve from 0.00554\n",
            "Epoch 92/1000\n",
            "73/73 [==============================] - 0s 3ms/step - loss: 3.1008e-05 - accuracy: 1.0000 - val_loss: 0.0083 - val_accuracy: 0.9987\n",
            "\n",
            "Epoch 00092: val_loss did not improve from 0.00554\n",
            "Epoch 93/1000\n",
            "73/73 [==============================] - 0s 3ms/step - loss: 2.9496e-05 - accuracy: 1.0000 - val_loss: 0.0083 - val_accuracy: 0.9987\n",
            "\n",
            "Epoch 00093: val_loss did not improve from 0.00554\n",
            "Epoch 94/1000\n",
            "73/73 [==============================] - 0s 3ms/step - loss: 2.9040e-05 - accuracy: 1.0000 - val_loss: 0.0085 - val_accuracy: 0.9987\n",
            "\n",
            "Epoch 00094: val_loss did not improve from 0.00554\n",
            "Epoch 95/1000\n",
            "73/73 [==============================] - 0s 3ms/step - loss: 2.7428e-05 - accuracy: 1.0000 - val_loss: 0.0085 - val_accuracy: 0.9987\n",
            "\n",
            "Epoch 00095: val_loss did not improve from 0.00554\n",
            "Epoch 96/1000\n",
            "73/73 [==============================] - 0s 3ms/step - loss: 2.7211e-05 - accuracy: 1.0000 - val_loss: 0.0085 - val_accuracy: 0.9987\n",
            "\n",
            "Epoch 00096: val_loss did not improve from 0.00554\n",
            "Epoch 97/1000\n",
            "73/73 [==============================] - 0s 3ms/step - loss: 2.6552e-05 - accuracy: 1.0000 - val_loss: 0.0085 - val_accuracy: 0.9987\n",
            "\n",
            "Epoch 00097: val_loss did not improve from 0.00554\n",
            "Epoch 98/1000\n",
            "73/73 [==============================] - 0s 3ms/step - loss: 2.4881e-05 - accuracy: 1.0000 - val_loss: 0.0086 - val_accuracy: 0.9987\n",
            "\n",
            "Epoch 00098: val_loss did not improve from 0.00554\n",
            "Epoch 99/1000\n",
            "73/73 [==============================] - 0s 3ms/step - loss: 2.3880e-05 - accuracy: 1.0000 - val_loss: 0.0085 - val_accuracy: 0.9987\n",
            "\n",
            "Epoch 00099: val_loss did not improve from 0.00554\n",
            "Epoch 100/1000\n",
            "73/73 [==============================] - 0s 3ms/step - loss: 2.3419e-05 - accuracy: 1.0000 - val_loss: 0.0087 - val_accuracy: 0.9987\n",
            "\n",
            "Epoch 00100: val_loss did not improve from 0.00554\n",
            "Epoch 101/1000\n",
            "73/73 [==============================] - 0s 3ms/step - loss: 2.2856e-05 - accuracy: 1.0000 - val_loss: 0.0088 - val_accuracy: 0.9987\n",
            "\n",
            "Epoch 00101: val_loss did not improve from 0.00554\n",
            "Epoch 102/1000\n",
            "73/73 [==============================] - 0s 3ms/step - loss: 2.3100e-05 - accuracy: 1.0000 - val_loss: 0.0086 - val_accuracy: 0.9987\n",
            "\n",
            "Epoch 00102: val_loss did not improve from 0.00554\n",
            "Epoch 103/1000\n",
            "73/73 [==============================] - 0s 3ms/step - loss: 2.1208e-05 - accuracy: 1.0000 - val_loss: 0.0087 - val_accuracy: 0.9981\n",
            "\n",
            "Epoch 00103: val_loss did not improve from 0.00554\n",
            "Epoch 104/1000\n",
            "73/73 [==============================] - 0s 3ms/step - loss: 2.0731e-05 - accuracy: 1.0000 - val_loss: 0.0086 - val_accuracy: 0.9987\n",
            "\n",
            "Epoch 00104: val_loss did not improve from 0.00554\n",
            "Epoch 105/1000\n",
            "73/73 [==============================] - 0s 3ms/step - loss: 2.1236e-05 - accuracy: 1.0000 - val_loss: 0.0087 - val_accuracy: 0.9987\n",
            "\n",
            "Epoch 00105: val_loss did not improve from 0.00554\n",
            "Epoch 106/1000\n",
            "73/73 [==============================] - 0s 3ms/step - loss: 1.9548e-05 - accuracy: 1.0000 - val_loss: 0.0087 - val_accuracy: 0.9987\n",
            "\n",
            "Epoch 00106: val_loss did not improve from 0.00554\n",
            "Epoch 107/1000\n",
            "73/73 [==============================] - 0s 3ms/step - loss: 1.9580e-05 - accuracy: 1.0000 - val_loss: 0.0088 - val_accuracy: 0.9981\n",
            "\n",
            "Epoch 00107: val_loss did not improve from 0.00554\n",
            "Epoch 108/1000\n",
            "73/73 [==============================] - 0s 4ms/step - loss: 1.9013e-05 - accuracy: 1.0000 - val_loss: 0.0088 - val_accuracy: 0.9981\n",
            "\n",
            "Epoch 00108: val_loss did not improve from 0.00554\n",
            "Epoch 109/1000\n",
            "73/73 [==============================] - 0s 4ms/step - loss: 1.9438e-05 - accuracy: 1.0000 - val_loss: 0.0091 - val_accuracy: 0.9981\n",
            "\n",
            "Epoch 00109: val_loss did not improve from 0.00554\n",
            "Epoch 110/1000\n",
            "73/73 [==============================] - 0s 4ms/step - loss: 1.8040e-05 - accuracy: 1.0000 - val_loss: 0.0089 - val_accuracy: 0.9987\n",
            "\n",
            "Epoch 00110: val_loss did not improve from 0.00554\n",
            "Epoch 111/1000\n",
            "73/73 [==============================] - 0s 3ms/step - loss: 1.7562e-05 - accuracy: 1.0000 - val_loss: 0.0088 - val_accuracy: 0.9987\n",
            "\n",
            "Epoch 00111: val_loss did not improve from 0.00554\n",
            "Epoch 112/1000\n",
            "73/73 [==============================] - 0s 3ms/step - loss: 1.8040e-05 - accuracy: 1.0000 - val_loss: 0.0091 - val_accuracy: 0.9981\n",
            "\n",
            "Epoch 00112: val_loss did not improve from 0.00554\n",
            "Epoch 00112: early stopping\n"
          ],
          "name": "stdout"
        },
        {
          "output_type": "execute_result",
          "data": {
            "text/plain": [
              "<tensorflow.python.keras.callbacks.History at 0x7f449a39e190>"
            ]
          },
          "metadata": {
            "tags": []
          },
          "execution_count": 25
        }
      ]
    },
    {
      "cell_type": "code",
      "metadata": {
        "id": "N4y29_tiH4PT"
      },
      "source": [
        "# Loading the saved model\n",
        "model = tf.keras.models.load_model(model_save_path)"
      ],
      "execution_count": 26,
      "outputs": []
    },
    {
      "cell_type": "code",
      "metadata": {
        "colab": {
          "base_uri": "https://localhost:8080/"
        },
        "id": "K_SY_0uIJeLU",
        "outputId": "883c6b6d-ec70-49d0-89f2-e496a4a5c234"
      },
      "source": [
        "val_loss, val_acc = model.evaluate(x_test, y_test, batch_size=64)"
      ],
      "execution_count": 28,
      "outputs": [
        {
          "output_type": "stream",
          "text": [
            "25/25 [==============================] - 0s 1ms/step - loss: 0.0055 - accuracy: 0.9987\n"
          ],
          "name": "stdout"
        }
      ]
    },
    {
      "cell_type": "code",
      "metadata": {
        "colab": {
          "base_uri": "https://localhost:8080/"
        },
        "id": "piOoererJjh7",
        "outputId": "100ca674-183d-4814-a9dd-e0b9fdea70ba"
      },
      "source": [
        "predict_result = model.predict(np.array([x_test[5]]))\n",
        "print(np.squeeze(predict_result))\n",
        "print(np.argmax(np.squeeze(predict_result)))"
      ],
      "execution_count": 36,
      "outputs": [
        {
          "output_type": "stream",
          "text": [
            "[1.5015858e-21 1.0000000e+00 5.8336308e-11 6.6654431e-19 6.9128545e-33\n",
            " 0.0000000e+00 3.8153774e-29 4.3435363e-23]\n",
            "1\n"
          ],
          "name": "stdout"
        }
      ]
    },
    {
      "cell_type": "markdown",
      "metadata": {
        "id": "7pn1-pirJz9g"
      },
      "source": [
        "\n",
        "**Confusion matrix**"
      ]
    },
    {
      "cell_type": "code",
      "metadata": {
        "colab": {
          "base_uri": "https://localhost:8080/",
          "height": 652
        },
        "id": "DuHE35gwJolE",
        "outputId": "4e8343a4-9df8-4713-99cb-6eba18734321"
      },
      "source": [
        "import pandas as pd\n",
        "import seaborn as sns\n",
        "import matplotlib.pyplot as plt\n",
        "from sklearn.metrics import confusion_matrix, classification_report\n",
        "\n",
        "def print_confusion_matrix(y_true, y_pred, report=True):\n",
        "    labels = sorted(list(set(y_true)))\n",
        "    cmx_data = confusion_matrix(y_true, y_pred, labels=labels)\n",
        "    \n",
        "    df_cmx = pd.DataFrame(cmx_data, index=labels, columns=labels)\n",
        " \n",
        "    fig, ax = plt.subplots(figsize=(7, 6))\n",
        "    sns.heatmap(df_cmx, annot=True, fmt='g' ,square=False)\n",
        "    ax.set_ylim(len(set(y_true)), 0)\n",
        "    plt.show()\n",
        "    \n",
        "    if report:\n",
        "        print('Classification Report')\n",
        "        print(classification_report(y_test, y_pred))\n",
        "\n",
        "Y_pred = model.predict(x_test)\n",
        "y_pred = np.argmax(Y_pred, axis=1)\n",
        "\n",
        "print_confusion_matrix(y_test, y_pred)"
      ],
      "execution_count": 32,
      "outputs": [
        {
          "output_type": "display_data",
          "data": {
            "image/png": "[encoded data removed]",
            "text/plain": [
              "<Figure size 504x432 with 2 Axes>"
            ]
          },
          "metadata": {
            "tags": [],
            "needs_background": "light"
          }
        },
        {
          "output_type": "stream",
          "text": [
            "Classification Report\n",
            "              precision    recall  f1-score   support\n",
            "\n",
            "           0       1.00      1.00      1.00       420\n",
            "           1       1.00      1.00      1.00       397\n",
            "           2       1.00      1.00      1.00       369\n",
            "           3       1.00      1.00      1.00       178\n",
            "           4       1.00      1.00      1.00        37\n",
            "           5       1.00      1.00      1.00        62\n",
            "           6       1.00      1.00      1.00        42\n",
            "           7       1.00      1.00      1.00        43\n",
            "\n",
            "    accuracy                           1.00      1548\n",
            "   macro avg       1.00      1.00      1.00      1548\n",
            "weighted avg       1.00      1.00      1.00      1548\n",
            "\n"
          ],
          "name": "stdout"
        }
      ]
    },
    {
      "cell_type": "code",
      "metadata": {
        "colab": {
          "base_uri": "https://localhost:8080/"
        },
        "id": "8CjKRMUHJ7PE",
        "outputId": "327338fc-0b26-4bb5-918e-3a068989761f"
      },
      "source": [
        "\n",
        "!zip -r model.zip keypoint_classifier\n",
        "\n"
      ],
      "execution_count": 34,
      "outputs": [
        {
          "output_type": "stream",
          "text": [
            "\tzip warning: name not matched: keypoint_classifier\n",
            "\n",
            "zip error: Nothing to do! (try: zip -r model.zip . -i keypoint_classifier)\n"
          ],
          "name": "stdout"
        }
      ]
    },
    {
      "cell_type": "code",
      "metadata": {
        "colab": {
          "base_uri": "https://localhost:8080/"
        },
        "id": "AeNROhhhKIB7",
        "outputId": "88d7da68-e4d3-46bd-e043-2e915b00a0d9"
      },
      "source": [
        "prediction = model.predict(np.array([x_test[0]]))\n",
        "print(np.argmax(prediction))"
      ],
      "execution_count": 38,
      "outputs": [
        {
          "output_type": "stream",
          "text": [
            "0\n"
          ],
          "name": "stdout"
        }
      ]
    },
    {
      "cell_type": "code",
      "metadata": {
        "id": "I39ffuVnK-5H"
      },
      "source": [
        ""
      ],
      "execution_count": null,
      "outputs": []
    }
  ]
}